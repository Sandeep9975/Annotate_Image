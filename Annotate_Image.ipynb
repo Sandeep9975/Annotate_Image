{
 "cells": [
  {
   "cell_type": "markdown",
   "id": "fdd7e2aa",
   "metadata": {},
   "source": [
    "# Image Annotation Tool"
   ]
  },
  {
   "cell_type": "code",
   "execution_count": 1,
   "id": "1af4d0d9",
   "metadata": {},
   "outputs": [
    {
     "name": "stdout",
     "output_type": "stream",
     "text": [
      "Requirement already satisfied: opencv-python in c:\\users\\sandeep\\anaconda3\\lib\\site-packages (4.8.0.74)\n",
      "Requirement already satisfied: numpy>=1.21.2 in c:\\users\\sandeep\\anaconda3\\lib\\site-packages (from opencv-python) (1.24.3)\n",
      "Note: you may need to restart the kernel to use updated packages.\n"
     ]
    }
   ],
   "source": [
    "pip install opencv-python"
   ]
  },
  {
   "cell_type": "code",
   "execution_count": 2,
   "id": "d4ae6196",
   "metadata": {},
   "outputs": [
    {
     "name": "stdout",
     "output_type": "stream",
     "text": [
      "Requirement already satisfied: pillow in c:\\users\\sandeep\\anaconda3\\lib\\site-packages (9.4.0)\n",
      "Note: you may need to restart the kernel to use updated packages.\n"
     ]
    }
   ],
   "source": [
    "pip install pillow"
   ]
  },
  {
   "cell_type": "code",
   "execution_count": 6,
   "id": "dc6391af",
   "metadata": {},
   "outputs": [],
   "source": [
    "import cv2\n",
    "import numpy as np\n",
    "from PIL import Image, ImageDraw, ImageFont\n",
    "import tkinter as tk\n",
    "from tkinter import filedialog\n",
    "import textwrap\n",
    "\n",
    "# Function to adjust the font size to fit the wrapped text within the image frame\n",
    "def adjust_font_size(annotation_text, font_path, max_font_size, image_width, image_height):\n",
    "    # Create a dummy Pillow image to get the size of the wrapped text with the given font\n",
    "    dummy_image = Image.new(\"RGB\", (image_width, image_height))\n",
    "    draw = ImageDraw.Draw(dummy_image)\n",
    "    font_size = max_font_size\n",
    "\n",
    "    # Reduce the font size until the wrapped text fits within the image frame\n",
    "    while True:\n",
    "        font = ImageFont.truetype(font_path, font_size)\n",
    "        wrapped_text = textwrap.fill(annotation_text, width=20)\n",
    "        text_width, text_height = draw.textsize(wrapped_text, font=font)\n",
    "        if text_width < image_width and text_height < image_height:\n",
    "            break\n",
    "        font_size -= 1\n",
    "\n",
    "    return font_size\n",
    "\n",
    "# Function to annotate the image with the given text\n",
    "def annotate_image(input_image_path, output_image_path, annotation_text, max_font_size=40, font_color=(255, 0, 0)):\n",
    "    # Load the image using OpenCV\n",
    "    image = cv2.imread(input_image_path)\n",
    "    image_height, image_width, _ = image.shape\n",
    "    \n",
    "    # Convert from BGR to RGB (since Pillow uses RGB)\n",
    "    image_rgb = cv2.cvtColor(image, cv2.COLOR_BGR2RGB)\n",
    "    pil_image = Image.fromarray(image_rgb)\n",
    "    \n",
    "    # Load a font (customize the font path if needed)\n",
    "    font_path = \"Roboto-Black.ttf\"  # Replace with the path to your TTF font file\n",
    "    font_size = adjust_font_size(annotation_text, font_path, max_font_size, image_width, image_height)\n",
    "    font = ImageFont.truetype(font_path, font_size)\n",
    "\n",
    "    # Wrap the text to fit within the image frame\n",
    "    wrapped_text = textwrap.fill(annotation_text, width=20)\n",
    "    \n",
    "    # Create a Pillow draw object\n",
    "    draw = ImageDraw.Draw(pil_image)\n",
    "\n",
    "    # Calculate the position to place the text at the bottom-center of the image\n",
    "    text_width, text_height = draw.textsize(wrapped_text, font=font)\n",
    "    text_x = (image_width - text_width) // 2\n",
    "    text_y = image_height - text_height - 20  # Leave some margin at the bottom\n",
    "    \n",
    "    # Draw the wrapped text on the image\n",
    "    draw.text((text_x, text_y), wrapped_text, font=font, fill=font_color)\n",
    "    \n",
    "    # Convert the Pillow image back to a NumPy array (BGR format for OpenCV)\n",
    "    image_annotated_rgb = pil_image.convert('RGB')\n",
    "    image_annotated_bgr = cv2.cvtColor(np.array(image_annotated_rgb), cv2.COLOR_RGB2BGR)\n",
    "    \n",
    "    # Save the annotated image\n",
    "    cv2.imwrite(output_image_path, image_annotated_bgr)\n",
    "\n",
    "# Function to browse and select the input image file\n",
    "def browse_input_image():\n",
    "    file_path = filedialog.askopenfilename()\n",
    "    input_entry.delete(0, tk.END)\n",
    "    input_entry.insert(0, file_path)\n",
    "\n",
    "# Function to browse and select the output path to save the annotated image\n",
    "def browse_output_path():\n",
    "    file_path = filedialog.asksaveasfilename(defaultextension=\".jpg\")\n",
    "    output_entry.delete(0, tk.END)\n",
    "    output_entry.insert(0, file_path)\n",
    "\n",
    "# Function to handle the \"Annotate Image\" button click event\n",
    "def annotate_button_click():\n",
    "    input_image_path = input_entry.get()\n",
    "    output_image_path = output_entry.get()\n",
    "    annotation_text = annotation_text_entry.get()\n",
    "    annotate_image(input_image_path, output_image_path, annotation_text)\n",
    "\n",
    "# Create the main application window\n",
    "app = tk.Tk()\n",
    "app.title(\"Image Annotation\")\n",
    "\n",
    "# Create and position the widgets for input image selection\n",
    "input_label = tk.Label(app, text=\"Select Input Image:\")\n",
    "input_label.pack()\n",
    "input_entry = tk.Entry(app, width=50)\n",
    "input_entry.pack()\n",
    "input_browse_button = tk.Button(app, text=\"Browse\", command=browse_input_image)\n",
    "input_browse_button.pack()\n",
    "\n",
    "# Create and position the widgets for output path selection\n",
    "output_label = tk.Label(app, text=\"Select Output Path:\")\n",
    "output_label.pack()\n",
    "output_entry = tk.Entry(app, width=50)\n",
    "output_entry.pack()\n",
    "output_browse_button = tk.Button(app, text=\"Browse\", command=browse_output_path)\n",
    "output_browse_button.pack()\n",
    "\n",
    "# Create and position the widgets for entering the annotation text\n",
    "annotation_text_label = tk.Label(app, text=\"Annotation Text:\")\n",
    "annotation_text_label.pack()\n",
    "annotation_text_entry = tk.Entry(app, width=50)\n",
    "annotation_text_entry.pack()\n",
    "\n",
    "# Create and position the \"Annotate Image\" button\n",
    "annotate_button = tk.Button(app, text=\"Annotate Image\", command=annotate_button_click)\n",
    "annotate_button.pack()\n",
    "\n",
    "# Start the main event loop\n",
    "app.mainloop()\n"
   ]
  },
  {
   "cell_type": "markdown",
   "id": "85f81476",
   "metadata": {},
   "source": [
    "The above code is a Python script that allows users to annotate an image by adding a subtitle to it. The script uses the OpenCV library to load and manipulate the image and the Pillow library to add text to the image.\n",
    "\n",
    "The main functions of the code include:\n",
    "\n",
    "1. `adjust_font_size`: This function dynamically adjusts the font size of the subtitle text to ensure it fits within the image frame while maintaining readability.\n",
    "\n",
    "2. `annotate_image`: This function takes an input image, a subtitle text, and an output path. It annotates the image by adding the subtitle text at the bottom-center of the image. The text is wrapped to fit within the image frame.\n",
    "\n",
    "3. `browse_input_image` and `browse_output_path`: These functions handle the file dialog to allow users to select the input image and the output path for the annotated image.\n",
    "\n",
    "4. `annotate_button_click`: This function is triggered when the \"Annotate Image\" button is clicked. It reads the input image path, output path, and subtitle text from the corresponding entry fields and calls the `annotate_image` function to generate the annotated image.\n",
    "\n",
    "The script uses the tkinter library to create a simple graphical user interface (GUI) where users can interact with the application. The GUI provides input fields to select the input image, specify the output path, and enter the subtitle text. Upon clicking the \"Annotate Image\" button, the annotated image is generated and saved at the specified location.\n",
    "\n",
    "With this script, users can easily add subtitles to their images and save the modified images with the subtitle positioned at the bottom-center, ensuring a visually appealing result."
   ]
  }
 ],
 "metadata": {
  "kernelspec": {
   "display_name": "Python 3 (ipykernel)",
   "language": "python",
   "name": "python3"
  },
  "language_info": {
   "codemirror_mode": {
    "name": "ipython",
    "version": 3
   },
   "file_extension": ".py",
   "mimetype": "text/x-python",
   "name": "python",
   "nbconvert_exporter": "python",
   "pygments_lexer": "ipython3",
   "version": "3.11.3"
  }
 },
 "nbformat": 4,
 "nbformat_minor": 5
}
